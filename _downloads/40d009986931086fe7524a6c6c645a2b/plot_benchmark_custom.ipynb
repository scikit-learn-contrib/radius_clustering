{
  "cells": [
    {
      "cell_type": "markdown",
      "metadata": {},
      "source": [
        "\n# Benchmark of Radius Clustering using multiple datasets and comparison with custom MDS\n\nThis example demonstrates how to implement a custom solver for the MDS problem\nand use it within the Radius Clustering framework.\nPlus, it compares the results of a naive implementation using the \n`NetworkX` library with the Radius Clustering implementation.\n\nThe example includes:\n    1. Defining the custom MDS solver.\n    2. Defining datasets to test the clustering.\n    3. Applying Radius clustering on the datasets using the custom MDS solver.\n    4. Ensure this solution works.\n    5. Establish a benchmark procedure to compare the Radius clustering with a naive implementation using `NetworkX`.\n    6. Comparing the results in terms of :\n        - Execution time\n        - Number of cluster found\n    7. Visualizing the benchmark results.\n    8. Visualizing the clustering results.\n\nThis example is useful for understanding how to implement a custom MDS solver\nand how to perform an advanced usage of the package.\n"
      ]
    },
    {
      "cell_type": "code",
      "execution_count": null,
      "metadata": {
        "collapsed": false
      },
      "outputs": [],
      "source": [
        "# Author: Haenn Quentin\n# SPDX-License-Identifier: MIT"
      ]
    },
    {
      "cell_type": "markdown",
      "metadata": {},
      "source": [
        "## Import necessary libraries\n\nSince this example is a benchmark, we need to import the necessary libraries\nto perform the benchmark, including `NetworkX` for the naive implementation,\n`matplotlib` for visualization, and `sklearn` for the datasets.\n\n"
      ]
    },
    {
      "cell_type": "code",
      "execution_count": null,
      "metadata": {
        "collapsed": false
      },
      "outputs": [],
      "source": [
        "import networkx as nx\nimport numpy as np\nimport matplotlib.pyplot as plt\nimport time\nimport warnings\n\nfrom sklearn.datasets import fetch_openml\nfrom radius_clustering import RadiusClustering\nfrom sklearn.metrics import pairwise_distances_argmin\n\nwarnings.filterwarnings(\"ignore\", category=RuntimeWarning, module=\"sklearn\")"
      ]
    },
    {
      "cell_type": "markdown",
      "metadata": {},
      "source": [
        "## Define a custom MDS solver\n\nWe define a custom MDS solver that uses the `NetworkX` library to compute the MDS.\nNote the signature of the function is identical to the one used in the `RadiusClustering` class.\n\n"
      ]
    },
    {
      "cell_type": "code",
      "execution_count": null,
      "metadata": {
        "collapsed": false
      },
      "outputs": [],
      "source": [
        "def custom_solver(n: int, edges: np.ndarray, nb_edges: int, random_state=None):\n    \"\"\"\n    Custom MDS solver using NetworkX to compute the MDS problem.\n    \n    Parameters:\n    -----------\n    n : int\n        The number of points in the dataset.\n    edges : np.ndarray\n        The edges of the graph, flattened into a 1D array.\n    nb_edges : int\n        The number of edges in the graph.\n    random_state : int | None\n        The random state to use for reproducibility.\n        \n    Returns:\n    --------\n    centers : list\n        A sorted list of the centers of the clusters.\n    mds_exec_time : float\n        The execution time of the MDS algorithm in seconds.\n    \"\"\"\n    G = nx.Graph()\n    G.add_edges_from(edges)\n    \n    start_time = time.time()\n    centers = list(nx.algorithms.dominating.dominating_set(G))\n    mds_exec_time = time.time() - start_time\n\n    centers = sorted(centers)\n\n    return centers, mds_exec_time"
      ]
    },
    {
      "cell_type": "markdown",
      "metadata": {},
      "source": [
        "## Define datasets to test the clustering\n\nWe will use 4 datasets to test the clustering:\n1. Iris dataset\n2. Wine dataset\n3. Breast Cancer dataset (WDBC)\n4. Vehicle dataset\nThese are common datasets used in machine learning and lead to pretty fast results.\nStructure of the variable `DATASETS`:\n- The key is the name of the dataset.\n- The value is a tuple containing:\n  - The dataset fetched from OpenML.\n  - The radius to use for the Radius clustering. (determined in literature, see references on home page)\n\n\n"
      ]
    },
    {
      "cell_type": "code",
      "execution_count": null,
      "metadata": {
        "collapsed": false
      },
      "outputs": [],
      "source": [
        "DATASETS = {\n    \"iris\": (fetch_openml(name=\"iris\", version=1, as_frame=False), 1.43),\n    \"wine\": (fetch_openml(name=\"wine\", version=1, as_frame=False), 232.09),\n    \"glass\": (fetch_openml(name=\"glass\", version=1, as_frame=False), 3.94),\n    \"ionosphere\": (fetch_openml(name=\"ionosphere\", version=1, as_frame=False), 5.46),\n    \"breast_cancer\": (fetch_openml(name=\"wdbc\", version=1, as_frame=False), 1197.42),\n    \"synthetic\": (fetch_openml(name=\"synthetic_control\", version=1, as_frame=False), 70.12),\n    \"vehicle\": (fetch_openml(name=\"vehicle\", version=1, as_frame=False), 155.05),\n    \"yeast\": (fetch_openml(name=\"yeast\", version=1, as_frame=False), 0.4235),\n}"
      ]
    },
    {
      "cell_type": "markdown",
      "metadata": {},
      "source": [
        "## Define the benchmark procedure\n\nWe define a function to perform the benchmark on the datasets.\nThe procedure is as follows:\n1. Creates an instance of RadiusClustering for each solver.\n2. For each instance, fit the algorithm on each dataset.\n3. Store the execution time and the number of clusters found for each dataset.\n4. Return the results as a dictionary.\n\n"
      ]
    },
    {
      "cell_type": "code",
      "execution_count": null,
      "metadata": {
        "collapsed": false
      },
      "outputs": [],
      "source": [
        "def benchmark_radius_clustering():\n    results = {}\n    exact = RadiusClustering(manner=\"exact\", radius=1.43)\n    approx = RadiusClustering(manner=\"approx\", radius=1.43)\n    custom = RadiusClustering(\n        manner=\"custom\", radius=1.43\n    )\n    custom.set_solver(custom_solver) # Set the custom solver\n    algorithms = [exact, approx, custom]\n    # Loop through each algorithm and dataset\n    for algo in algorithms:\n        algo_results = {}\n        time_algo = []\n        clusters_algo = []\n        # Loop through each dataset\n        for name, (dataset, radius) in DATASETS.items():\n            X = dataset.data\n            # set the radius for the dataset considered\n            setattr(algo, \"radius\", radius)\n            # Fit the algorithm\n            t0 = time.time()\n            algo.fit(X)\n            t_algo = time.time() - t0\n\n            # Store the results\n            time_algo.append(t_algo)\n            clusters_algo.append(len(algo.centers_))\n        algo_results[\"time\"] = time_algo\n        algo_results[\"clusters\"] = clusters_algo\n        results[algo.manner] = algo_results\n\n    return results"
      ]
    },
    {
      "cell_type": "markdown",
      "metadata": {},
      "source": [
        "## Run the benchmark and plot the results\nWe run the benchmark and plot the results for each dataset.\n\n"
      ]
    },
    {
      "cell_type": "code",
      "execution_count": null,
      "metadata": {
        "collapsed": false
      },
      "outputs": [],
      "source": [
        "results = benchmark_radius_clustering()\n\n# Plot the results\nfig, axs = plt.subplot_mosaic(\n    [\n        [\"time\", \"time\", \"time\", \"time\"],\n        [\"iris\", \"wine\", \"breast_cancer\", \"vehicle\"],\n        [\"glass\", \"ionosphere\", \"synthetic\", \"yeast\"],\n    ],\n    layout=\"constrained\",\n    figsize=(12, 8),\n)\nfig.suptitle(\"Benchmark of Radius Clustering Solvers\", fontsize=16)\n\naxs['time'].set_yscale('log')  # Use logarithmic scale for better visibility\n\nalgorithms = list(results.keys())\ndataset_names = list(DATASETS.keys())\nn_algos = len(algorithms)\nx_indices = np.arange(len(dataset_names))  # the label locations\nbar_width = 0.8 / n_algos  # the width of the bars, with some padding\n\nfor i, algo in enumerate(algorithms):\n    times = results[algo][\"time\"]\n    # Calculate position for each bar in the group to center them\n    position = x_indices - (n_algos * bar_width / 2) + (i * bar_width) + bar_width / 2\n    axs['time'].bar(position, times, bar_width, label=algo)\n\nfor i, (name, (dataset, _)) in enumerate(DATASETS.items()):\n    axs[name].bar(\n        results.keys(),\n        [results[algo][\"clusters\"][i] for algo in results.keys()],\n        label=name,\n    )\n    axs[name].axhline(\n        y=len(set(dataset.target)),  # Number of unique classes in the dataset\n        label=\"True number of clusters\",\n        color='r',\n        linestyle='--',\n    )\n    axs[name].set_title(name)\n\naxs[\"iris\"].set_ylabel(\"Number of clusters\")\naxs[\"glass\"].set_ylabel(\"Number of clusters\")\n\naxs['time'].set_title(\"Execution Time (log scale)\")\naxs['time'].set_xlabel(\"Datasets\")\naxs['time'].set_ylabel(\"Time (seconds)\")\naxs['time'].set_xticks(x_indices)\naxs['time'].set_xticklabels(dataset_names)\naxs['time'].legend(title=\"Algorithms\")\nplt.tight_layout()\nplt.show()"
      ]
    },
    {
      "cell_type": "markdown",
      "metadata": {},
      "source": [
        "## Conclusion\n\nIn this example, we applied Radius clustering to the Iris and Wine datasets and compared it with KMeans clustering.\nWe visualized the clustering results and the difference between the two clustering algorithms.\nWe saw that Radius Clustering can lead to smaller clusters than kmeans, which produces much more equilibrate clusters.\nThe difference plot can be very useful to see where the two clustering algorithms differ.\n\n"
      ]
    }
  ],
  "metadata": {
    "kernelspec": {
      "display_name": "Python 3",
      "language": "python",
      "name": "python3"
    },
    "language_info": {
      "codemirror_mode": {
        "name": "ipython",
        "version": 3
      },
      "file_extension": ".py",
      "mimetype": "text/x-python",
      "name": "python",
      "nbconvert_exporter": "python",
      "pygments_lexer": "ipython3",
      "version": "3.12.3"
    }
  },
  "nbformat": 4,
  "nbformat_minor": 0
}